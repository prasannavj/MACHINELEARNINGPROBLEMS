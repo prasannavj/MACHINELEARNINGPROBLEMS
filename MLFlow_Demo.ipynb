{
  "nbformat": 4,
  "nbformat_minor": 0,
  "metadata": {
    "colab": {
      "name": "MLFlow Demo.ipynb",
      "provenance": []
    },
    "kernelspec": {
      "name": "python3",
      "display_name": "Python 3"
    },
    "language_info": {
      "name": "python"
    }
  },
  "cells": [
    {
      "cell_type": "code",
      "execution_count": 2,
      "metadata": {
        "colab": {
          "base_uri": "https://localhost:8080/"
        },
        "id": "VN5SmsixqCbM",
        "outputId": "efcf621a-bdae-4bf2-d81d-7274073876c0"
      },
      "outputs": [
        {
          "output_type": "stream",
          "name": "stdout",
          "text": [
            "\u001b[K     |████████████████████████████████| 17.9 MB 550 kB/s \n",
            "\u001b[K     |████████████████████████████████| 209 kB 52.4 MB/s \n",
            "\u001b[K     |████████████████████████████████| 181 kB 55.3 MB/s \n",
            "\u001b[K     |████████████████████████████████| 146 kB 51.2 MB/s \n",
            "\u001b[K     |████████████████████████████████| 79 kB 7.3 MB/s \n",
            "\u001b[K     |████████████████████████████████| 81 kB 9.8 MB/s \n",
            "\u001b[K     |████████████████████████████████| 596 kB 66.4 MB/s \n",
            "\u001b[K     |████████████████████████████████| 54 kB 2.4 MB/s \n",
            "\u001b[K     |████████████████████████████████| 63 kB 1.5 MB/s \n",
            "\u001b[K     |████████████████████████████████| 78 kB 5.9 MB/s \n",
            "\u001b[?25h  Building wheel for databricks-cli (setup.py) ... \u001b[?25l\u001b[?25hdone\n"
          ]
        }
      ],
      "source": [
        "!pip install mlflow --quiet\n",
        "get_ipython().system_raw(\"mlflow ui --port 5000 &\")"
      ]
    },
    {
      "cell_type": "code",
      "source": [
        "import mlflow\n",
        "\n",
        "with mlflow.start_run(run_name=\"MLflow on Colab\"):\n",
        "  mlflow.log_metric(\"m1\", 2.0)\n",
        "  mlflow.log_param(\"p1\", \"mlflow-colab\")"
      ],
      "metadata": {
        "id": "kqY82sO_w_w3"
      },
      "execution_count": 3,
      "outputs": []
    },
    {
      "cell_type": "code",
      "source": [
        "!pip install pyngrok --quiet\n",
        "\n",
        "from pyngrok import ngrok\n",
        "from getpass import getpass\n",
        "\n",
        "# Terminate open tunnels if exist\n",
        "ngrok.kill()\n",
        "\n",
        "# Setting the authtoken (optional)\n",
        "# Get your authtoken from https://dashboard.ngrok.com/auth\n",
        "NGROK_AUTH_TOKEN = getpass('6wNJu5rVZrQ4pmP8NBBhW_4X5JwATLCSWL6N8nBwerJ')\n",
        "ngrok.set_auth_token(NGROK_AUTH_TOKEN)\n",
        "\n",
        "# Open an HTTPs tunnel on port 5000 for http://localhost:5000\n",
        "ngrok_tunnel = ngrok.connect(addr=\"5000\", proto=\"http\", bind_tls=True)\n",
        "print(\"MLflow Tracking UI:\", ngrok_tunnel.public_url)"
      ],
      "metadata": {
        "colab": {
          "base_uri": "https://localhost:8080/"
        },
        "id": "3b4Uyd4BxUd4",
        "outputId": "b6062277-d3a2-4a74-e017-347528bfa26f"
      },
      "execution_count": 5,
      "outputs": [
        {
          "output_type": "stream",
          "name": "stdout",
          "text": [
            "6wNJu5rVZrQ4pmP8NBBhW_4X5JwATLCSWL6N8nBwerJ··········\n",
            "MLflow Tracking UI: https://40a1-35-221-38-46.ngrok.io\n"
          ]
        }
      ]
    },
    {
      "cell_type": "code",
      "source": [
        "\n",
        "from sklearn.datasets import load_iris\n",
        "from sklearn.model_selection import train_test_split\n",
        "\n",
        "data = load_iris()\n",
        "X, y = data.data, data.target\n",
        "seed = 10 #Specify a seed value.\n",
        "\n",
        "X_train, X_test, y_train, y_test = train_test_split(X, y, random_state = seed, stratify = y)\n"
      ],
      "metadata": {
        "id": "9eMrwyZFyO7o"
      },
      "execution_count": 6,
      "outputs": []
    },
    {
      "cell_type": "code",
      "source": [
        "from sklearn.ensemble import RandomForestClassifier\n",
        "\n",
        "current_run = mlflow.start_run()\n",
        "\n",
        "#Logging the seed value to passed to the train_test_split function. \n",
        "mlflow.log_param(\"seed\", seed)\n",
        "\n",
        "estimators = int(input(\"Estimator(s): \"))\n",
        "\n",
        "#Model definition.\n",
        "rclf = RandomForestClassifier(n_estimators = estimators)\n",
        "\n",
        "mlflow.sklearn.autolog()\n",
        "rclf.fit(X_train, y_train)\n",
        "metrics = mlflow.sklearn.eval_and_log_metrics(rclf, X_test, y_test, prefix=\"val_\")\n",
        "mlflow.end_run()"
      ],
      "metadata": {
        "colab": {
          "base_uri": "https://localhost:8080/"
        },
        "id": "qvJsWeZoyO4D",
        "outputId": "2182c9f3-46d9-45a5-9c18-6ee2d0a764a2"
      },
      "execution_count": 7,
      "outputs": [
        {
          "name": "stdout",
          "output_type": "stream",
          "text": [
            "Estimator(s): 5\n"
          ]
        }
      ]
    },
    {
      "cell_type": "code",
      "source": [
        ""
      ],
      "metadata": {
        "id": "9o4M6I7zxnPg"
      },
      "execution_count": null,
      "outputs": []
    }
  ]
}